{
 "cells": [
  {
   "cell_type": "markdown",
   "id": "7a2ac3d3-0314-42ab-92d6-077ffbe63fb3",
   "metadata": {},
   "source": [
    "Exercise 2\n",
    "# Data Science Tools and Ecosystem"
   ]
  },
  {
   "cell_type": "markdown",
   "id": "b8620b97-1c1b-4ff9-9340-8a7c67fde6f6",
   "metadata": {},
   "source": [
    "Exercise 3\n",
    "In this notebook, Data Science Tools and Ecosystem are summarized.\r\n"
   ]
  },
  {
   "cell_type": "markdown",
   "id": "2095037a-2a96-4244-8a46-d0c4f3286be2",
   "metadata": {},
   "source": [
    "Exercise 4\n",
    "Some of the popular languages that Data Scientists use are:\r\n",
    "1. Python\r\n",
    "2. R\r\n",
    "3. SQL\r\n"
   ]
  },
  {
   "cell_type": "markdown",
   "id": "003855eb-4d8d-4a8d-b2ca-141928361071",
   "metadata": {},
   "source": [
    "Exercise 5\n",
    "Some of the commonly used libraries used by Data Scientists include:\n",
    "1. Pandas\n",
    "2. NumPy\n",
    "3. Matplotlib\n"
   ]
  },
  {
   "cell_type": "markdown",
   "id": "61e6933c-f8e6-4f93-907b-bd4bcec8081f",
   "metadata": {},
   "source": [
    "Exercise 6\n",
    "| Data Science Tools |\r\n",
    "|--------------------|\r\n",
    "| Jupyter Notebook    |\r\n",
    "| RStudio             |\r\n",
    "| Apache Zeppelin     |\r\n"
   ]
  },
  {
   "cell_type": "markdown",
   "id": "c3cea8cf-0e4a-4491-bc2f-36da55ee54d7",
   "metadata": {},
   "source": [
    "Exercise 7\n",
    "### Below are a few examples of evaluating arithmetic expressions in Python.\r\n"
   ]
  },
  {
   "cell_type": "code",
   "execution_count": 17,
   "id": "8679a136-fc40-4897-853b-df8ee51ece64",
   "metadata": {},
   "outputs": [
    {
     "data": {
      "text/plain": [
       "17"
      ]
     },
     "execution_count": 17,
     "metadata": {},
     "output_type": "execute_result"
    }
   ],
   "source": [
    "#Exercise 8\n",
    "# This is a simple arithmetic expression to multiply then add integers\n",
    "result = (3 * 4) + 5\n",
    "result\n"
   ]
  },
  {
   "cell_type": "code",
   "execution_count": 21,
   "id": "b17890ad-d026-4479-a262-116c2fd24d33",
   "metadata": {},
   "outputs": [
    {
     "data": {
      "text/plain": [
       "3.3333333333333335"
      ]
     },
     "execution_count": 21,
     "metadata": {},
     "output_type": "execute_result"
    }
   ],
   "source": [
    "#Exercise 9\n",
    "# This will convert 200 minutes to hours by dividing by 60\n",
    "hours = 200 / 60\n",
    "hours\n"
   ]
  },
  {
   "cell_type": "markdown",
   "id": "ddcfd699-8058-4c06-9cbb-40f3169897be",
   "metadata": {},
   "source": [
    "Exercise 10 \n",
    "\n",
    "**Objectives:**\r\n",
    "- List popular languages for Data Science.\r\n",
    "- Identify commonly used libraries in Data Science.\r\n",
    "- Understand tools used in Data Science projects.\r\n",
    "- Evaluate arithmetic expressions in Python.\r\n",
    "- Convert time units from minutes to hours.\r\n"
   ]
  },
  {
   "cell_type": "markdown",
   "id": "8c64f3b1-e725-4279-b38a-51e90b4f9fbb",
   "metadata": {},
   "source": [
    "## Author\n",
    "#### Sarthak Sharma"
   ]
  }
 ],
 "metadata": {
  "kernelspec": {
   "display_name": "Python 3 (ipykernel)",
   "language": "python",
   "name": "python3"
  },
  "language_info": {
   "codemirror_mode": {
    "name": "ipython",
    "version": 3
   },
   "file_extension": ".py",
   "mimetype": "text/x-python",
   "name": "python",
   "nbconvert_exporter": "python",
   "pygments_lexer": "ipython3",
   "version": "3.12.4"
  }
 },
 "nbformat": 4,
 "nbformat_minor": 5
}
